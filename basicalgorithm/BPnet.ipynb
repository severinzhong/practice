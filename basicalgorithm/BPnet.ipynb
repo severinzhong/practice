{
 "cells": [
  {
   "cell_type": "code",
   "execution_count": 1,
   "metadata": {},
   "outputs": [],
   "source": [
    "import numpy as np\n",
    "import pandas as pd\n",
    "import matplotlib.pyplot as plt\n",
    "import math\n",
    "\n",
    "from abc import ABCMeta, abstractmethod\n",
    "from time import time"
   ]
  },
  {
   "cell_type": "code",
   "execution_count": 81,
   "metadata": {},
   "outputs": [],
   "source": [
    "class Function(object) :\n",
    "    def __init__(self):\n",
    "        pass\n",
    "\n",
    "    def forward(self , x ) :\n",
    "        pass\n",
    "\n",
    "    def backward(self , y) :\n",
    "        pass"
   ]
  },
  {
   "cell_type": "code",
   "execution_count": 82,
   "metadata": {},
   "outputs": [],
   "source": [
    "class sigmoid(Function) :\n",
    "    #@staticmethod\n",
    "    def forward (self , x) :\n",
    "        return 1. / (1. + np.exp(-x))\n",
    "    #@staticmethod\n",
    "    def backward (self , x) :\n",
    "        return x * (1. - x)"
   ]
  },
  {
   "cell_type": "code",
   "execution_count": 83,
   "metadata": {},
   "outputs": [],
   "source": [
    "class Fx(Function) :\n",
    "    #@staticmethod\n",
    "    def forward (self , x) :\n",
    "        return x \n",
    "    #@staticmethod\n",
    "    def backward (self , x) :\n",
    "        return 1."
   ]
  },
  {
   "cell_type": "code",
   "execution_count": 466,
   "metadata": {},
   "outputs": [],
   "source": [
    "class Node(object) :\n",
    "    def __init__(self , nin , name , func = Fx() ) :\n",
    "        self.nin = nin\n",
    "        self.win = np.random.random(len(nin)) * 1e-3\n",
    "        \n",
    "        for i in range(len(nin)) :\n",
    "            self.nin[i].nout.append(self)\n",
    "            self.nin[i].wout.append(self.win[i])\n",
    "            \n",
    "        self.nout = []\n",
    "        self.wout = []\n",
    "        \n",
    "        self.value = None\n",
    "        self.loss = None\n",
    "        self.func = func\n",
    "        self.name = name\n",
    "    def forward(self) :\n",
    "        if self.value :\n",
    "            return self.value\n",
    "        s = 0\n",
    "        for i in range(len(self.nin)) :\n",
    "            s += self.nin[i].forward() * self.win[i]\n",
    "        self.value = self.func.forward(s)\n",
    "        return self.value\n",
    "    def backward(self) :\n",
    "        if self.loss :\n",
    "            return self.loss\n",
    "        l = 0\n",
    "        for i in range(len(self.wout)) :\n",
    "            l += self.nout[i].backward() * self.wout[i]\n",
    "            self.nout[i].win[ self.nout[i].nin.index(self) ] -= 0.01 * self.nout[i].backward()\n",
    "        self.loss = self.func.backward(l) * l \n",
    "        \n",
    "        return self.loss\n",
    "    def update(self) :\n",
    "        self.value = self.value if isinstance(self , Holder) else None\n",
    "        self.loss = None\n",
    "        for i in range(len(self.nin)) :\n",
    "            self.nin[i].update()\n",
    "            ## update wout\n",
    "            self.nin[i].wout[self.nin[i].nout.index(self)] = self.win[i]\n",
    "            \n",
    "    @property\n",
    "    def status(self) :\n",
    "        print(\"name : {}\".format(self.name))\n",
    "        for i in range(len(self.win)) :\n",
    "            print(\"{} -|{:.5}|-> \".format(self.nin[i].name , self.win[i]))\n",
    "        for i in range(len(self.wout)) :\n",
    "            print(\"--|{:.5}|->{} \".format(self.wout[i] , self.nout[i].name))"
   ]
  },
  {
   "cell_type": "code",
   "execution_count": 467,
   "metadata": {},
   "outputs": [],
   "source": [
    "class Holder(Node):\n",
    "    def __init__(self , name , func = Fx()) :\n",
    "        self.nin = []\n",
    "        self.win = []\n",
    "            \n",
    "        self.nout = []\n",
    "        self.wout = []\n",
    "        \n",
    "        self.name = name\n",
    "        self.value = None\n",
    "        self.loss = None\n",
    "        self.func = func\n",
    "    def forward(self) :\n",
    "        assert self.value\n",
    "        return self.value"
   ]
  },
  {
   "cell_type": "code",
   "execution_count": 468,
   "metadata": {},
   "outputs": [],
   "source": [
    "def setHolder( n , x ) :\n",
    "    assert len(n) == len(x)\n",
    "    for i in range(len(n)) :\n",
    "        n[i].value = x[i]"
   ]
  },
  {
   "cell_type": "code",
   "execution_count": 609,
   "metadata": {},
   "outputs": [],
   "source": [
    "#input layer\n",
    "x = [Holder('x-{}'.format(i) , sigmoid()) for i in range(3)]\n",
    "\n",
    "#hidden layer\n",
    "n1 = [Node(x , 'n1-{}'.format(i) , sigmoid() ) for i in range(5) ]\n",
    "\n",
    "#hidden layer2\n",
    "n2 = [Node(n1 , 'n2-{}'.format(i) , sigmoid() ) for i in range(3) ]\n",
    "\n",
    "#output layer\n",
    "y = Node(n2 , 'y-0' , sigmoid())\n"
   ]
  },
  {
   "cell_type": "code",
   "execution_count": 610,
   "metadata": {},
   "outputs": [
    {
     "name": "stdout",
     "output_type": "stream",
     "text": [
      "name : n1-1\n",
      "x-0 -|0.00043197|-> \n",
      "x-1 -|0.00063623|-> \n",
      "x-2 -|0.00082262|-> \n",
      "--|0.00095976|->n2-0 \n",
      "--|0.00023417|->n2-1 \n",
      "--|8.3655e-05|->n2-2 \n"
     ]
    }
   ],
   "source": [
    "n1[1].status"
   ]
  },
  {
   "cell_type": "code",
   "execution_count": 611,
   "metadata": {},
   "outputs": [],
   "source": [
    "setHolder(x , np.ones(3) ) "
   ]
  },
  {
   "cell_type": "code",
   "execution_count": 614,
   "metadata": {},
   "outputs": [
    {
     "name": "stdout",
     "output_type": "stream",
     "text": [
      "0 0.11456928859408551 0.014357024423947753\n",
      "100 0.112871215624623 0.012705547432967458\n",
      "200 0.11137708157381775 0.011247643588680438\n",
      "300 0.1100608596088771 0.009959638712807558\n",
      "400 0.10890024324039779 0.00882102891065954\n",
      "500 0.1078760111562617 0.007813979604528141\n",
      "600 0.10697152607815211 0.006922923902293747\n",
      "700 0.10617233359057655 0.006134235888623188\n",
      "800 0.10546583672910485 0.005435961357955616\n",
      "900 0.10484102886970124 0.004817593309183958\n",
      "1000 0.10428827215317686 0.004269882875117144\n"
     ]
    }
   ],
   "source": [
    "for iter in range(1001) :\n",
    "    y.forward()\n",
    "    y.loss = y.func.backward(y.forward() - 0.1 )\n",
    "    for i in x :\n",
    "        i.backward() \n",
    "    if iter%100 == 0 :\n",
    "        print(iter , y.value , y.loss)\n",
    "    y.update()"
   ]
  },
  {
   "cell_type": "code",
   "execution_count": 615,
   "metadata": {},
   "outputs": [
    {
     "name": "stdout",
     "output_type": "stream",
     "text": [
      "name : x-1\n",
      "--|0.00096293|->n1-0 \n",
      "--|0.00062726|->n1-1 \n",
      "--|0.00095905|->n1-2 \n",
      "--|0.00043324|->n1-3 \n",
      "--|8.8602e-05|->n1-4 \n"
     ]
    }
   ],
   "source": [
    "x[1].status"
   ]
  },
  {
   "cell_type": "code",
   "execution_count": 616,
   "metadata": {},
   "outputs": [
    {
     "name": "stdout",
     "output_type": "stream",
     "text": [
      "name : y-0\n",
      "n2-0 -|-1.6104|-> \n",
      "n2-1 -|-1.6103|-> \n",
      "n2-2 -|-1.6108|-> \n"
     ]
    }
   ],
   "source": [
    "y.status"
   ]
  },
  {
   "cell_type": "code",
   "execution_count": 522,
   "metadata": {},
   "outputs": [],
   "source": [
    "x_ = [[1,1],[1,0],[0,1],[0,0]]\n",
    "y_ = [1,1,1,0]"
   ]
  },
  {
   "cell_type": "code",
   "execution_count": 523,
   "metadata": {},
   "outputs": [],
   "source": [
    "#input layer\n",
    "x = [Holder('x-{}'.format(i) , sigmoid()) for i in range(2)]\n",
    "\n",
    "#hidden layer\n",
    "n = [Node(x , 'n-{}'.format(i) , sigmoid() ) for i in range(3) ]\n",
    "\n",
    "#output layer\n",
    "y = Node(n , 'y-0' , sigmoid())"
   ]
  },
  {
   "cell_type": "code",
   "execution_count": 592,
   "metadata": {},
   "outputs": [
    {
     "name": "stdout",
     "output_type": "stream",
     "text": [
      "name : y-0\n",
      "n-0 -|0.23293|-> \n",
      "n-1 -|0.23268|-> \n",
      "n-2 -|0.23274|-> \n"
     ]
    }
   ],
   "source": [
    "y.status"
   ]
  },
  {
   "cell_type": "code",
   "execution_count": 593,
   "metadata": {},
   "outputs": [
    {
     "name": "stdout",
     "output_type": "stream",
     "text": [
      "0 0.5862254683195153 -0.5849838947478891\n"
     ]
    }
   ],
   "source": [
    "for iter in range(1) :\n",
    "    setHolder(x , x_[iter%4] ) \n",
    "    y.forward()\n",
    "    y.loss = y.func.backward(y.forward() - y_[iter%4] )\n",
    "    for i in x :\n",
    "        i.backward() \n",
    "    if iter%1000 == 0 :\n",
    "        print(iter , y.value , y.loss)\n",
    "    y.update()"
   ]
  },
  {
   "cell_type": "code",
   "execution_count": 477,
   "metadata": {},
   "outputs": [
    {
     "data": {
      "text/plain": [
       "[1, 0]"
      ]
     },
     "execution_count": 477,
     "metadata": {},
     "output_type": "execute_result"
    }
   ],
   "source": [
    "x_[iter%4]"
   ]
  },
  {
   "cell_type": "code",
   "execution_count": 478,
   "metadata": {},
   "outputs": [],
   "source": [
    "x[0].value"
   ]
  },
  {
   "cell_type": "code",
   "execution_count": null,
   "metadata": {},
   "outputs": [],
   "source": []
  }
 ],
 "metadata": {
  "kernelspec": {
   "display_name": "Python 3",
   "language": "python",
   "name": "python3"
  },
  "language_info": {
   "codemirror_mode": {
    "name": "ipython",
    "version": 3
   },
   "file_extension": ".py",
   "mimetype": "text/x-python",
   "name": "python",
   "nbconvert_exporter": "python",
   "pygments_lexer": "ipython3",
   "version": "3.7.3"
  }
 },
 "nbformat": 4,
 "nbformat_minor": 2
}
